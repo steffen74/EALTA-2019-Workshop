{
  "nbformat": 4,
  "nbformat_minor": 0,
  "metadata": {
    "colab": {
      "name": "Huggingface Example.ipynb",
      "provenance": [],
      "collapsed_sections": [],
      "include_colab_link": true
    },
    "kernelspec": {
      "name": "python3",
      "display_name": "Python 3"
    },
    "language_info": {
      "name": "python"
    },
    "accelerator": "GPU",
    "widgets": {
      "application/vnd.jupyter.widget-state+json": {
        "19ec60af265a48c3b50f99c67b0250d6": {
          "model_module": "@jupyter-widgets/controls",
          "model_name": "HBoxModel",
          "state": {
            "_view_name": "HBoxView",
            "_dom_classes": [],
            "_model_name": "HBoxModel",
            "_view_module": "@jupyter-widgets/controls",
            "_model_module_version": "1.5.0",
            "_view_count": null,
            "_view_module_version": "1.5.0",
            "box_style": "",
            "layout": "IPY_MODEL_d6dab4917fe94fb6928123aa69e473d6",
            "_model_module": "@jupyter-widgets/controls",
            "children": [
              "IPY_MODEL_17aa17d66ea54e2e94a2dd7646585751",
              "IPY_MODEL_3a22d678f60248e693b2d919a8120562",
              "IPY_MODEL_5849b59bdecb40f5b3cb66d238281484"
            ]
          }
        },
        "c0b5064c76e944198911d21126938e67": {
          "model_module": "@jupyter-widgets/controls",
          "model_name": "HBoxModel",
          "state": {
            "_view_name": "HBoxView",
            "_dom_classes": [],
            "_model_name": "HBoxModel",
            "_view_module": "@jupyter-widgets/controls",
            "_model_module_version": "1.5.0",
            "_view_count": null,
            "_view_module_version": "1.5.0",
            "box_style": "",
            "layout": "IPY_MODEL_da088b5737f744fc978ee5fc995e2226",
            "_model_module": "@jupyter-widgets/controls",
            "children": [
              "IPY_MODEL_244a1751a8f442babf101ccaccbca420",
              "IPY_MODEL_949a42fdbbc14aa798bf3cfa3488b672",
              "IPY_MODEL_c65ac2c0a77b4295b6e26b69971d96f2"
            ]
          }
        },
        "985859fc5d1f4d9dbd856c9f09b956f2": {
          "model_module": "@jupyter-widgets/controls",
          "model_name": "HBoxModel",
          "state": {
            "_view_name": "HBoxView",
            "_dom_classes": [],
            "_model_name": "HBoxModel",
            "_view_module": "@jupyter-widgets/controls",
            "_model_module_version": "1.5.0",
            "_view_count": null,
            "_view_module_version": "1.5.0",
            "box_style": "",
            "layout": "IPY_MODEL_f64c27599e5a405ab41009107a69a3b9",
            "_model_module": "@jupyter-widgets/controls",
            "children": [
              "IPY_MODEL_304c1f4cb4a34fc28020a56166880084",
              "IPY_MODEL_8932536f96b34f109227668de212daf4",
              "IPY_MODEL_d612615424a34558b18919d59d63a617"
            ]
          }
        },
        "0e6b9d28b4e14b26afa9c574b415f9ed": {
          "model_module": "@jupyter-widgets/controls",
          "model_name": "HBoxModel",
          "state": {
            "_view_name": "HBoxView",
            "_dom_classes": [],
            "_model_name": "HBoxModel",
            "_view_module": "@jupyter-widgets/controls",
            "_model_module_version": "1.5.0",
            "_view_count": null,
            "_view_module_version": "1.5.0",
            "box_style": "",
            "layout": "IPY_MODEL_efa173c357024a51aeac9e3e7ed94cac",
            "_model_module": "@jupyter-widgets/controls",
            "children": [
              "IPY_MODEL_f1d07f43e88840ea8e4d57f4358240e7",
              "IPY_MODEL_78f27eab9d0341e9b91d7e3b10c486a8",
              "IPY_MODEL_b7b726ffd545427096d772a751f0d002"
            ]
          }
        },
        "9fc15550f38742de9eddb385075d5343": {
          "model_module": "@jupyter-widgets/controls",
          "model_name": "HBoxModel",
          "state": {
            "_view_name": "HBoxView",
            "_dom_classes": [],
            "_model_name": "HBoxModel",
            "_view_module": "@jupyter-widgets/controls",
            "_model_module_version": "1.5.0",
            "_view_count": null,
            "_view_module_version": "1.5.0",
            "box_style": "",
            "layout": "IPY_MODEL_27a666e123c944f7825b82d157b7e4ae",
            "_model_module": "@jupyter-widgets/controls",
            "children": [
              "IPY_MODEL_eaecf2373e724b89acbf2bab7c1334d5",
              "IPY_MODEL_eb856910f8fc4b57985d51b245128899",
              "IPY_MODEL_8d55098ed1b64d88a431797c71329f3c"
            ]
          }
        },
        "12571a0776f74319841a359d2ca95e6d": {
          "model_module": "@jupyter-widgets/controls",
          "model_name": "HBoxModel",
          "state": {
            "_view_name": "HBoxView",
            "_dom_classes": [],
            "_model_name": "HBoxModel",
            "_view_module": "@jupyter-widgets/controls",
            "_model_module_version": "1.5.0",
            "_view_count": null,
            "_view_module_version": "1.5.0",
            "box_style": "",
            "layout": "IPY_MODEL_24d204df472b4ac59a64d4fe47a14548",
            "_model_module": "@jupyter-widgets/controls",
            "children": [
              "IPY_MODEL_95aa84aaeb0b49a59bf9f29fde28d5f4",
              "IPY_MODEL_5e9ad4029f734d3fb3473a49178f678b",
              "IPY_MODEL_ecf217d80efa4fb6821d4f3b117054c8"
            ]
          }
        },
        "cdba19efd877484a8bfe3c65ef72655c": {
          "model_module": "@jupyter-widgets/controls",
          "model_name": "HBoxModel",
          "state": {
            "_view_name": "HBoxView",
            "_dom_classes": [],
            "_model_name": "HBoxModel",
            "_view_module": "@jupyter-widgets/controls",
            "_model_module_version": "1.5.0",
            "_view_count": null,
            "_view_module_version": "1.5.0",
            "box_style": "",
            "layout": "IPY_MODEL_eb0b7b6d8de143d28fa9d3d4ef9a833d",
            "_model_module": "@jupyter-widgets/controls",
            "children": [
              "IPY_MODEL_92bd505cfd944044996ab620024a63b1",
              "IPY_MODEL_09f11ac30bfd4bb389c52dd3e3aa0fcf",
              "IPY_MODEL_6071cbff694747c1821185399bed6a9e"
            ]
          }
        },
        "827a649ea8224b58a98cd0ce3ad6e0df": {
          "model_module": "@jupyter-widgets/controls",
          "model_name": "HBoxModel",
          "state": {
            "_view_name": "HBoxView",
            "_dom_classes": [],
            "_model_name": "HBoxModel",
            "_view_module": "@jupyter-widgets/controls",
            "_model_module_version": "1.5.0",
            "_view_count": null,
            "_view_module_version": "1.5.0",
            "box_style": "",
            "layout": "IPY_MODEL_1c47c449a30a4f21839fa5a8fd69c200",
            "_model_module": "@jupyter-widgets/controls",
            "children": [
              "IPY_MODEL_8d5176ea757748409f1214f78b7d8be9",
              "IPY_MODEL_572e98d3a2454a9ab6daba577b030825",
              "IPY_MODEL_81e32984287d4f08bc18d1a0de9127e9"
            ]
          }
        },
        "4f010a95e74d448788596cee0382230e": {
          "model_module": "@jupyter-widgets/controls",
          "model_name": "HBoxModel",
          "state": {
            "_view_name": "HBoxView",
            "_dom_classes": [],
            "_model_name": "HBoxModel",
            "_view_module": "@jupyter-widgets/controls",
            "_model_module_version": "1.5.0",
            "_view_count": null,
            "_view_module_version": "1.5.0",
            "box_style": "",
            "layout": "IPY_MODEL_524f1dfb3dbb454d91ccaa7a0ba201bf",
            "_model_module": "@jupyter-widgets/controls",
            "children": [
              "IPY_MODEL_03e8fb8969b74c9cbe98e23bf2fd40bd",
              "IPY_MODEL_539e0d8f778e40b5b9921fcd943eeeaf",
              "IPY_MODEL_cbb516c59b344f3b80e4b636778bddb6"
            ]
          }
        },
        "d8a7cd53d3c44736baf32200e92c2f91": {
          "model_module": "@jupyter-widgets/controls",
          "model_name": "HBoxModel",
          "state": {
            "_view_name": "HBoxView",
            "_dom_classes": [],
            "_model_name": "HBoxModel",
            "_view_module": "@jupyter-widgets/controls",
            "_model_module_version": "1.5.0",
            "_view_count": null,
            "_view_module_version": "1.5.0",
            "box_style": "",
            "layout": "IPY_MODEL_17bd479baa814889acdb6270f0825473",
            "_model_module": "@jupyter-widgets/controls",
            "children": [
              "IPY_MODEL_c4dd42b6132e47a7aebe9d4ad402b205",
              "IPY_MODEL_eb1c8fb1f6984bc6aa954ad56bf27871",
              "IPY_MODEL_87922ce80feb41f3ab6dd2cb5cdc0d92"
            ]
          }
        },
        "031733c1ccf64dccad0516e7237fab15": {
          "model_module": "@jupyter-widgets/controls",
          "model_name": "HBoxModel",
          "state": {
            "_view_name": "HBoxView",
            "_dom_classes": [],
            "_model_name": "HBoxModel",
            "_view_module": "@jupyter-widgets/controls",
            "_model_module_version": "1.5.0",
            "_view_count": null,
            "_view_module_version": "1.5.0",
            "box_style": "",
            "layout": "IPY_MODEL_f0683ef107114edea7374675c5dfd4e2",
            "_model_module": "@jupyter-widgets/controls",
            "children": [
              "IPY_MODEL_60cdcf21702d4e9eb5afa7679639d8f1",
              "IPY_MODEL_db9daf06f67f4aa09fc11df5130c7618",
              "IPY_MODEL_51eac47a5db64716890636feedff32b1"
            ]
          }
        },
        "8b35895e4b2e475896b4de9c3c837582": {
          "model_module": "@jupyter-widgets/controls",
          "model_name": "HBoxModel",
          "state": {
            "_view_name": "HBoxView",
            "_dom_classes": [],
            "_model_name": "HBoxModel",
            "_view_module": "@jupyter-widgets/controls",
            "_model_module_version": "1.5.0",
            "_view_count": null,
            "_view_module_version": "1.5.0",
            "box_style": "",
            "layout": "IPY_MODEL_92866691ce1a4f1a9f204263c789f950",
            "_model_module": "@jupyter-widgets/controls",
            "children": [
              "IPY_MODEL_3ff7000fcd7444438f7a7ebbdb4cede4",
              "IPY_MODEL_0e4b99ba96544a92a3540359ba1bc32e",
              "IPY_MODEL_f68275aac61d48ad8d84d8c6f4753f4f"
            ]
          }
        }
      }
    }
  },
  "cells": [
    {
      "cell_type": "markdown",
      "metadata": {
        "id": "view-in-github",
        "colab_type": "text"
      },
      "source": [
        "<a href=\"https://colab.research.google.com/github/steffen74/EALTA-2019-Workshop/blob/master/azubi_evaluation_ml_with_tensorflow/code/BERT.ipynb\" target=\"_parent\"><img src=\"https://colab.research.google.com/assets/colab-badge.svg\" alt=\"Open In Colab\"/></a>"
      ]
    },
    {
      "cell_type": "markdown",
      "metadata": {
        "id": "RaYkaoIKwOaa"
      },
      "source": [
        "## Data Import"
      ]
    },
    {
      "cell_type": "markdown",
      "metadata": {
        "id": "teEwQqVmwVJ1"
      },
      "source": [
        "### Local import"
      ]
    },
    {
      "cell_type": "code",
      "metadata": {
        "id": "2YlrlZzMwR8V"
      },
      "source": [
        "import os\n",
        "os.chdir(\"C:/Users/Steffen/Arbeit/99_opencampus/13_ASCOT+/NLP-Paper/Special-Issue-NLP/azubi_evaluation_ml_with_tensorflow/data\")\n",
        "\n",
        "import numpy\n",
        "import pandas as pd\n",
        "data = pd.read_csv(\"data_new.csv\", encoding=\"UTF-8\")"
      ],
      "execution_count": null,
      "outputs": []
    },
    {
      "cell_type": "markdown",
      "metadata": {
        "id": "VXMNIp_wwYJ4"
      },
      "source": [
        "### From Google Drive in Colab"
      ]
    },
    {
      "cell_type": "code",
      "metadata": {
        "id": "KQ9YO5YjweUb",
        "outputId": "19605166-7839-4983-dda5-e38433af0721",
        "colab": {
          "base_uri": "https://localhost:8080/"
        }
      },
      "source": [
        "from google.colab import drive\n",
        "drive.mount('/content/gdrive')"
      ],
      "execution_count": 5,
      "outputs": [
        {
          "output_type": "stream",
          "text": [
            "Drive already mounted at /content/gdrive; to attempt to forcibly remount, call drive.mount(\"/content/gdrive\", force_remount=True).\n"
          ],
          "name": "stdout"
        }
      ]
    },
    {
      "cell_type": "code",
      "metadata": {
        "id": "UttyyLWE1NN-"
      },
      "source": [
        "import os\n",
        "os.chdir(\"./gdrive/MyDrive/NLP-Paper/data\")\n",
        "\n",
        "import numpy\n",
        "import pandas as pd\n",
        "data = pd.read_csv(\"data_new.csv\", encoding=\"UTF-8\")"
      ],
      "execution_count": 8,
      "outputs": []
    },
    {
      "cell_type": "markdown",
      "metadata": {
        "id": "-wVwaGAc2iuc"
      },
      "source": [
        "## Data Preparation"
      ]
    },
    {
      "cell_type": "code",
      "metadata": {
        "id": "DFJCf4PO3Ye2"
      },
      "source": [
        "# split the data into two pieces, one for training and one for testing\n",
        "from sklearn.model_selection import train_test_split\n",
        "X_train_series, X_test_series, y_train_series, y_test_series = train_test_split(data[\"x\"], data[\"y\"], test_size = 0.20, random_state = 42)\n",
        "\n",
        "# split the training data set again to additionally get a validation data set\n",
        "from sklearn.model_selection import train_test_split\n",
        "X_train_series, X_valid_series, y_train_series, y_valid_series = train_test_split(X_test_series, y_test_series, test_size = 0.20, random_state = 42)"
      ],
      "execution_count": 24,
      "outputs": []
    },
    {
      "cell_type": "markdown",
      "metadata": {
        "id": "VwMqoRIeZZQg"
      },
      "source": [
        "## Tokenizing for Fine-Tuning"
      ]
    },
    {
      "cell_type": "code",
      "metadata": {
        "id": "ghZvNdJR6lV7"
      },
      "source": [
        "from transformers import AutoTokenizer\n",
        "import numpy as np\n",
        "\n",
        "checkpoint = \"bert-base-uncased\"\n",
        "tokenizer = AutoTokenizer.from_pretrained(checkpoint)\n",
        "\n",
        "train_emcodings = tokenizer()\n",
        "\n",
        "def tokenize_dataset(dataset):\n",
        "    encoded = tokenizer(\n",
        "        dataset[\"sentence1\"],\n",
        "        dataset[\"sentence2\"],\n",
        "        padding=True,\n",
        "        truncation=True,\n",
        "        return_tensors='np',\n",
        "    )\n",
        "    return encoded.data\n",
        "\n",
        "tokenized_datasets = {\n",
        "    split: tokenize_dataset(raw_datasets[split]) for split in raw_datasets.keys()\n",
        "}"
      ],
      "execution_count": null,
      "outputs": []
    },
    {
      "cell_type": "code",
      "metadata": {
        "id": "6dijKOMc4p7C"
      },
      "source": [
        "!pip install transformers[sentencepiece]\n",
        "!pip install datasets"
      ],
      "execution_count": null,
      "outputs": []
    },
    {
      "cell_type": "code",
      "metadata": {
        "colab": {
          "base_uri": "https://localhost:8080/",
          "height": 73,
          "referenced_widgets": [
            "19ec60af265a48c3b50f99c67b0250d6",
            "c0b5064c76e944198911d21126938e67",
            "985859fc5d1f4d9dbd856c9f09b956f2",
            "0e6b9d28b4e14b26afa9c574b415f9ed",
            "9fc15550f38742de9eddb385075d5343",
            "12571a0776f74319841a359d2ca95e6d",
            "cdba19efd877484a8bfe3c65ef72655c",
            "827a649ea8224b58a98cd0ce3ad6e0df",
            "4f010a95e74d448788596cee0382230e",
            "d8a7cd53d3c44736baf32200e92c2f91",
            "031733c1ccf64dccad0516e7237fab15",
            "8b35895e4b2e475896b4de9c3c837582"
          ]
        },
        "id": "uumoH1GG_ZQP",
        "outputId": "991bd396-c997-47c2-d14a-895d314906d1"
      },
      "source": [
        "\n",
        "\n",
        "from transformers import AutoTokenizer\n",
        "import numpy as np\n",
        "from datasets import load_dataset\n",
        "\n",
        "raw_datasets = load_dataset(\"glue\", \"mrpc\")\n",
        "checkpoint = \"bert-base-uncased\"\n",
        "tokenizer = AutoTokenizer.from_pretrained(checkpoint)\n",
        "\n",
        "def tokenize_dataset(dataset):\n",
        "    encoded = tokenizer(\n",
        "        dataset[\"sentence1\"],\n",
        "        dataset[\"sentence2\"],\n",
        "        padding=True,\n",
        "        truncation=True,\n",
        "        return_tensors='np',\n",
        "    )\n",
        "    return encoded.data\n",
        "\n",
        "tokenized_datasets = {\n",
        "    split: tokenize_dataset(raw_datasets[split]) for split in raw_datasets.keys()\n",
        "}"
      ],
      "execution_count": 14,
      "outputs": [
        {
          "output_type": "display_data",
          "data": {
            "application/vnd.jupyter.widget-view+json": {
              "model_id": "19ec60af265a48c3b50f99c67b0250d6",
              "version_minor": 0,
              "version_major": 2
            },
            "text/plain": [
              "Downloading:   0%|          | 0.00/7.78k [00:00<?, ?B/s]"
            ]
          },
          "metadata": {
            "tags": []
          }
        },
        {
          "output_type": "display_data",
          "data": {
            "application/vnd.jupyter.widget-view+json": {
              "model_id": "c0b5064c76e944198911d21126938e67",
              "version_minor": 0,
              "version_major": 2
            },
            "text/plain": [
              "Downloading:   0%|          | 0.00/4.47k [00:00<?, ?B/s]"
            ]
          },
          "metadata": {
            "tags": []
          }
        },
        {
          "output_type": "stream",
          "text": [
            "Downloading and preparing dataset glue/mrpc (download: 1.43 MiB, generated: 1.43 MiB, post-processed: Unknown size, total: 2.85 MiB) to /root/.cache/huggingface/datasets/glue/mrpc/1.0.0/dacbe3125aa31d7f70367a07a8a9e72a5a0bfeb5fc42e75c9db75b96da6053ad...\n"
          ],
          "name": "stdout"
        },
        {
          "output_type": "display_data",
          "data": {
            "application/vnd.jupyter.widget-view+json": {
              "model_id": "985859fc5d1f4d9dbd856c9f09b956f2",
              "version_minor": 0,
              "version_major": 2
            },
            "text/plain": [
              "Downloading: 0.00B [00:00, ?B/s]"
            ]
          },
          "metadata": {
            "tags": []
          }
        },
        {
          "output_type": "display_data",
          "data": {
            "application/vnd.jupyter.widget-view+json": {
              "model_id": "0e6b9d28b4e14b26afa9c574b415f9ed",
              "version_minor": 0,
              "version_major": 2
            },
            "text/plain": [
              "Downloading: 0.00B [00:00, ?B/s]"
            ]
          },
          "metadata": {
            "tags": []
          }
        },
        {
          "output_type": "display_data",
          "data": {
            "application/vnd.jupyter.widget-view+json": {
              "model_id": "9fc15550f38742de9eddb385075d5343",
              "version_minor": 0,
              "version_major": 2
            },
            "text/plain": [
              "Downloading: 0.00B [00:00, ?B/s]"
            ]
          },
          "metadata": {
            "tags": []
          }
        },
        {
          "output_type": "display_data",
          "data": {
            "application/vnd.jupyter.widget-view+json": {
              "model_id": "12571a0776f74319841a359d2ca95e6d",
              "version_minor": 0,
              "version_major": 2
            },
            "text/plain": [
              "0 examples [00:00, ? examples/s]"
            ]
          },
          "metadata": {
            "tags": []
          }
        },
        {
          "output_type": "display_data",
          "data": {
            "application/vnd.jupyter.widget-view+json": {
              "model_id": "cdba19efd877484a8bfe3c65ef72655c",
              "version_minor": 0,
              "version_major": 2
            },
            "text/plain": [
              "0 examples [00:00, ? examples/s]"
            ]
          },
          "metadata": {
            "tags": []
          }
        },
        {
          "output_type": "display_data",
          "data": {
            "application/vnd.jupyter.widget-view+json": {
              "model_id": "827a649ea8224b58a98cd0ce3ad6e0df",
              "version_minor": 0,
              "version_major": 2
            },
            "text/plain": [
              "0 examples [00:00, ? examples/s]"
            ]
          },
          "metadata": {
            "tags": []
          }
        },
        {
          "output_type": "stream",
          "text": [
            "Dataset glue downloaded and prepared to /root/.cache/huggingface/datasets/glue/mrpc/1.0.0/dacbe3125aa31d7f70367a07a8a9e72a5a0bfeb5fc42e75c9db75b96da6053ad. Subsequent calls will reuse this data.\n"
          ],
          "name": "stdout"
        },
        {
          "output_type": "display_data",
          "data": {
            "application/vnd.jupyter.widget-view+json": {
              "model_id": "4f010a95e74d448788596cee0382230e",
              "version_minor": 0,
              "version_major": 2
            },
            "text/plain": [
              "Downloading:   0%|          | 0.00/28.0 [00:00<?, ?B/s]"
            ]
          },
          "metadata": {
            "tags": []
          }
        },
        {
          "output_type": "display_data",
          "data": {
            "application/vnd.jupyter.widget-view+json": {
              "model_id": "d8a7cd53d3c44736baf32200e92c2f91",
              "version_minor": 0,
              "version_major": 2
            },
            "text/plain": [
              "Downloading:   0%|          | 0.00/570 [00:00<?, ?B/s]"
            ]
          },
          "metadata": {
            "tags": []
          }
        },
        {
          "output_type": "display_data",
          "data": {
            "application/vnd.jupyter.widget-view+json": {
              "model_id": "031733c1ccf64dccad0516e7237fab15",
              "version_minor": 0,
              "version_major": 2
            },
            "text/plain": [
              "Downloading:   0%|          | 0.00/232k [00:00<?, ?B/s]"
            ]
          },
          "metadata": {
            "tags": []
          }
        },
        {
          "output_type": "display_data",
          "data": {
            "application/vnd.jupyter.widget-view+json": {
              "model_id": "8b35895e4b2e475896b4de9c3c837582",
              "version_minor": 0,
              "version_major": 2
            },
            "text/plain": [
              "Downloading:   0%|          | 0.00/466k [00:00<?, ?B/s]"
            ]
          },
          "metadata": {
            "tags": []
          }
        }
      ]
    },
    {
      "cell_type": "code",
      "metadata": {
        "id": "qzuHw7Zv5ITm",
        "outputId": "85308c76-0f8c-43d6-a470-940cae5af27d",
        "colab": {
          "base_uri": "https://localhost:8080/"
        }
      },
      "source": [
        "raw_datasets['train'][0]\n"
      ],
      "execution_count": 22,
      "outputs": [
        {
          "output_type": "execute_result",
          "data": {
            "text/plain": [
              "{'idx': 0,\n",
              " 'label': 1,\n",
              " 'sentence1': 'Amrozi accused his brother , whom he called \" the witness \" , of deliberately distorting his evidence .',\n",
              " 'sentence2': 'Referring to him as only \" the witness \" , Amrozi accused his brother of deliberately distorting his evidence .'}"
            ]
          },
          "metadata": {
            "tags": []
          },
          "execution_count": 22
        }
      ]
    },
    {
      "cell_type": "code",
      "metadata": {
        "id": "jr-kf_wz6EdI",
        "outputId": "1b42889d-b88a-435a-eb03-cb4ad03df5c9",
        "colab": {
          "base_uri": "https://localhost:8080/"
        }
      },
      "source": [
        "tokenized_datasets"
      ],
      "execution_count": 23,
      "outputs": [
        {
          "output_type": "execute_result",
          "data": {
            "text/plain": [
              "{'test': {'attention_mask': array([[1, 1, 1, ..., 0, 0, 0],\n",
              "         [1, 1, 1, ..., 0, 0, 0],\n",
              "         [1, 1, 1, ..., 0, 0, 0],\n",
              "         ...,\n",
              "         [1, 1, 1, ..., 0, 0, 0],\n",
              "         [1, 1, 1, ..., 0, 0, 0],\n",
              "         [1, 1, 1, ..., 0, 0, 0]]),\n",
              "  'input_ids': array([[  101,  7473,  2278, ...,     0,     0,     0],\n",
              "         [  101,  1996,  2088, ...,     0,     0,     0],\n",
              "         [  101,  2429,  2000, ...,     0,     0,     0],\n",
              "         ...,\n",
              "         [  101, 16559,  5226, ...,     0,     0,     0],\n",
              "         [  101,  2197,  2733, ...,     0,     0,     0],\n",
              "         [  101, 17540,  8004, ...,     0,     0,     0]]),\n",
              "  'token_type_ids': array([[0, 0, 0, ..., 0, 0, 0],\n",
              "         [0, 0, 0, ..., 0, 0, 0],\n",
              "         [0, 0, 0, ..., 0, 0, 0],\n",
              "         ...,\n",
              "         [0, 0, 0, ..., 0, 0, 0],\n",
              "         [0, 0, 0, ..., 0, 0, 0],\n",
              "         [0, 0, 0, ..., 0, 0, 0]])},\n",
              " 'train': {'attention_mask': array([[1, 1, 1, ..., 0, 0, 0],\n",
              "         [1, 1, 1, ..., 0, 0, 0],\n",
              "         [1, 1, 1, ..., 0, 0, 0],\n",
              "         ...,\n",
              "         [1, 1, 1, ..., 0, 0, 0],\n",
              "         [1, 1, 1, ..., 0, 0, 0],\n",
              "         [1, 1, 1, ..., 0, 0, 0]]),\n",
              "  'input_ids': array([[  101,  2572,  3217, ...,     0,     0,     0],\n",
              "         [  101,  9805,  3540, ...,     0,     0,     0],\n",
              "         [  101,  2027,  2018, ...,     0,     0,     0],\n",
              "         ...,\n",
              "         [  101,  1000,  2057, ...,     0,     0,     0],\n",
              "         [  101,  1996, 26828, ...,     0,     0,     0],\n",
              "         [  101,  1996,  2382, ...,     0,     0,     0]]),\n",
              "  'token_type_ids': array([[0, 0, 0, ..., 0, 0, 0],\n",
              "         [0, 0, 0, ..., 0, 0, 0],\n",
              "         [0, 0, 0, ..., 0, 0, 0],\n",
              "         ...,\n",
              "         [0, 0, 0, ..., 0, 0, 0],\n",
              "         [0, 0, 0, ..., 0, 0, 0],\n",
              "         [0, 0, 0, ..., 0, 0, 0]])},\n",
              " 'validation': {'attention_mask': array([[1, 1, 1, ..., 0, 0, 0],\n",
              "         [1, 1, 1, ..., 0, 0, 0],\n",
              "         [1, 1, 1, ..., 0, 0, 0],\n",
              "         ...,\n",
              "         [1, 1, 1, ..., 0, 0, 0],\n",
              "         [1, 1, 1, ..., 0, 0, 0],\n",
              "         [1, 1, 1, ..., 0, 0, 0]]),\n",
              "  'input_ids': array([[  101,  2002,  2056, ...,     0,     0,     0],\n",
              "         [  101, 20201, 22948, ...,     0,     0,     0],\n",
              "         [  101,  1996,  7922, ...,     0,     0,     0],\n",
              "         ...,\n",
              "         [  101,  2651,  1999, ...,     0,     0,     0],\n",
              "         [  101,  1996,  1055, ...,     0,     0,     0],\n",
              "         [  101,  4654,  1011, ...,     0,     0,     0]]),\n",
              "  'token_type_ids': array([[0, 0, 0, ..., 0, 0, 0],\n",
              "         [0, 0, 0, ..., 0, 0, 0],\n",
              "         [0, 0, 0, ..., 0, 0, 0],\n",
              "         ...,\n",
              "         [0, 0, 0, ..., 0, 0, 0],\n",
              "         [0, 0, 0, ..., 0, 0, 0],\n",
              "         [0, 0, 0, ..., 0, 0, 0]])}}"
            ]
          },
          "metadata": {
            "tags": []
          },
          "execution_count": 23
        }
      ]
    },
    {
      "cell_type": "code",
      "metadata": {
        "id": "RPIJnP-p5bNV",
        "outputId": "1923b200-66f6-49c5-e2c9-18833d9ca181",
        "colab": {
          "base_uri": "https://localhost:8080/"
        }
      },
      "source": [
        "raw_datasets.keys()"
      ],
      "execution_count": 16,
      "outputs": [
        {
          "output_type": "execute_result",
          "data": {
            "text/plain": [
              "dict_keys(['train', 'validation', 'test'])"
            ]
          },
          "metadata": {
            "tags": []
          },
          "execution_count": 16
        }
      ]
    },
    {
      "cell_type": "markdown",
      "metadata": {
        "id": "KxL9P5PkYw79"
      },
      "source": [
        "## Fine-Tuning"
      ]
    },
    {
      "cell_type": "code",
      "metadata": {
        "id": "ER0Nl-lrY1Mp"
      },
      "source": [
        "from tensorflow.keras.losses import SparseCategoricalCrossentropy\n",
        "\n",
        "model = TFAutoModelForSequenceClassification.from_pretrained(checkpoint)\n",
        "\n",
        "model.compile(\n",
        "    optimizer='adam',\n",
        "    loss=SparseCategoricalCrossentropy(from_logits=True),\n",
        "    metrics=['accuracy'],\n",
        ")\n",
        "model.fit(\n",
        "    tokenized_datasets['train'],\n",
        "    np.array(raw_datasets['train']['label']), \n",
        "    validation_data=(\n",
        "        tokenized_datasets['validation'],\n",
        "        np.array(raw_datasets['validation']['label']),\n",
        "    ),\n",
        "    batch_size=8,\n",
        "    epochs=3\n",
        ")"
      ],
      "execution_count": null,
      "outputs": []
    },
    {
      "cell_type": "markdown",
      "metadata": {
        "id": "MbUEV5OAexrM"
      },
      "source": [
        "## Fine-Tuning with learning rate optimization"
      ]
    },
    {
      "cell_type": "code",
      "metadata": {
        "id": "KnYjZqwkbas2"
      },
      "source": [
        "# Definition of the learning rate scheduler \n",
        "from tensorflow.keras.optimizers.schedules import PolynomialDecay\n",
        "batch_size = 8\n",
        "num_epochs = 3\n",
        "# The number of training steps is the number of samples in the dataset, divided by the batch size then multiplied\n",
        "# by the total number of epochs\n",
        "num_train_steps = (len(tokenized_datasets['train']['input_ids']) // batch_size) * num_epochs\n",
        "lr_scheduler = PolynomialDecay(\n",
        "    initial_learning_rate=5e-5,\n",
        "    end_learning_rate=0.,\n",
        "    decay_steps=num_train_steps\n",
        "    )\n",
        "from tensorflow.keras.optimizers import Adam\n",
        "opt = Adam(learning_rate=lr_scheduler)\n",
        "\n",
        "# Definition of the reminaing model parts\n",
        "from tensorflow.keras.losses import SparseCategoricalCrossentropy\n",
        "\n",
        "model = TFAutoModelForSequenceClassification.from_pretrained(checkpoint, num_labels=2)\n",
        "loss = SparseCategoricalCrossentropy(from_logits=True)\n",
        "model.compile(optimizer=opt, loss=loss, metrics=['accuracy'])\n",
        "\n",
        "# Estimation of the model\n",
        "model.fit(\n",
        "    tokenized_datasets['train'],\n",
        "    np.array(raw_datasets['train']['label']), \n",
        "    validation_data=(\n",
        "        tokenized_datasets['validation'],\n",
        "        np.array(raw_datasets['validation']['label']),\n",
        "    ),\n",
        "    batch_size=batch_size,\n",
        "    epochs=num_epochs\n",
        ")"
      ],
      "execution_count": null,
      "outputs": []
    },
    {
      "cell_type": "markdown",
      "metadata": {
        "id": "rhXlnofZe3RR"
      },
      "source": [
        "## Prediction"
      ]
    },
    {
      "cell_type": "code",
      "metadata": {
        "id": "UkrXbSWie7eB"
      },
      "source": [
        "preds = model.predict(tokenized_datasets['validation'])['logits']"
      ],
      "execution_count": null,
      "outputs": []
    },
    {
      "cell_type": "code",
      "metadata": {
        "id": "y4lZOdKWfh2f"
      },
      "source": [
        "class_preds = np.argmax(preds, axis=1)\n",
        "print(preds.shape, class_preds.shape)\n",
        "\n",
        "from datasets import load_metric\n",
        "\n",
        "metric = load_metric(\"glue\", \"mrpc\")\n",
        "metric.compute(predictions=class_preds, references=raw_datasets['validation']['label'])"
      ],
      "execution_count": null,
      "outputs": []
    }
  ]
}