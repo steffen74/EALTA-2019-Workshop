{
 "cells": [
  {
   "cell_type": "code",
   "execution_count": 2,
   "metadata": {},
   "outputs": [
    {
     "name": "stdout",
     "output_type": "stream",
     "text": [
      "Streaming dataset samples:\n",
      "Title: Anarchism\n",
      "Text snippet: Anarchism is a political philosophy and movement that is sceptical of authority and rejects all involuntary, coercive forms of hierarchy. Anarchism calls for the abolition of the state, which it holds to be unnecessary, undesirable, and harmful. As a historically left-wing movement, placed on the farthest left of the political spectrum, it is usually described alongside communalism and libertarian Marxism as the libertarian wing (libertarian socialism) of the socialist movement, and has a strong...\n",
      "\n",
      "Title: Autism\n",
      "Text snippet: Autism is a neurodevelopmental disorder characterized by difficulties with social interaction and communication, and by restricted and repetitive behavior. Parents often notice signs during the first three years of their child's life. These signs often develop gradually, though some autistic children experience regression in their communication and social skills after reaching developmental milestones at a normal pace.\n",
      "\n",
      "Autism is associated with a combination of genetic and environmental factors...\n",
      "\n",
      "Title: Albedo\n",
      "Text snippet: Albedo (; ) is the measure of the diffuse reflection of solar radiation out of the total solar radiation and measured on a scale from 0, corresponding to a black body that absorbs all incident radiation, to 1, corresponding to a body that reflects all incident radiation.\n",
      "\n",
      "Surface albedo is defined as the ratio of radiosity Je to the irradiance Ee (flux per unit area) received by a surface. The proportion reflected is not only determined by properties of the surface itself, but also by the spectr...\n",
      "\n",
      "Title: A\n",
      "Text snippet: A, or a, is the first letter and the first vowel of the modern English alphabet and the ISO basic Latin alphabet. Its name in English is a (pronounced ), plural aes. It is similar in shape to the Ancient Greek letter alpha, from which it derives. The uppercase version consists of the two slanting sides of a triangle, crossed in the middle by a horizontal bar. The lowercase version can be written in two forms: the double-storey a and single-storey ɑ. The latter is commonly used in handwriting and...\n",
      "\n",
      "Title: Alabama\n",
      "Text snippet: Alabama () is a state in the Southeastern region of the United States, bordered by Tennessee to the north; Georgia to the east; Florida and the Gulf of Mexico to the south; and Mississippi to the west. Alabama is the 30th largest by area and the 24th-most populous of the U.S. states. With a total of  of inland waterways, Alabama has among the most of any state.\n",
      "\n",
      "Alabama is nicknamed the Yellowhammer State, after the state bird. Alabama is also known as the \"Heart of Dixie\" and the \"Cotton State\"...\n",
      "\n"
     ]
    }
   ],
   "source": [
    "from datasets import load_dataset\n",
    "\n",
    "# Load a dataset in streaming mode\n",
    "dataset = load_dataset('wikipedia', '20220301.en', streaming=True)\n",
    "\n",
    "# Example: Iterate over the dataset and print only the first 5 samples\n",
    "print(\"Streaming dataset samples:\")\n",
    "for i, sample in enumerate(dataset['train']):\n",
    "    print(f\"Title: {sample['title']}\\nText snippet: {sample['text'][:500]}...\\n\")\n",
    "    if i >= 4:  # Only print the first 5 articles\n",
    "        break\n"
   ]
  },
  {
   "cell_type": "code",
   "execution_count": 3,
   "metadata": {},
   "outputs": [
    {
     "name": "stdout",
     "output_type": "stream",
     "text": [
      "Loading the Wikipedia dataset...\n"
     ]
    },
    {
     "name": "stderr",
     "output_type": "stream",
     "text": [
      "Downloading data: 100%|██████████| 41/41 [17:26<00:00, 25.52s/files]    \n",
      "Generating train split: 100%|██████████| 6458670/6458670 [02:23<00:00, 45141.63 examples/s]\n"
     ]
    },
    {
     "name": "stdout",
     "output_type": "stream",
     "text": [
      "Dataset loaded in 1204.52 seconds.\n",
      "\n",
      "Initial sample from the dataset:\n",
      "Anarchism is a political philosophy and movement that is sceptical of authority and rejects all involuntary, coercive forms of hierarchy. Anarchism calls for the abolition of the state, which it holds to be unnecessary, undesirable, and harmful. As a historically left-wing movement, placed on the farthest left of the political spectrum, it is usually described alongside communalism and libertarian Marxism as the libertarian wing (libertarian socialism) of the socialist movement, and has a strong\n",
      "\n",
      "Filtering articles that mention 'artificial intelligence'...\n"
     ]
    },
    {
     "name": "stderr",
     "output_type": "stream",
     "text": [
      "Filter: 100%|██████████| 6458670/6458670 [04:24<00:00, 24395.46 examples/s]\n"
     ]
    },
    {
     "name": "stdout",
     "output_type": "stream",
     "text": [
      "Found 10800 articles mentioning 'artificial intelligence'.\n",
      "\n",
      "Average length of articles mentioning 'artificial intelligence': 12753.35 characters.\n",
      "\n",
      "Most common words in articles about 'artificial intelligence':\n",
      "the: 1292561\n",
      "of: 718071\n",
      "and: 647243\n",
      "in: 500756\n",
      "to: 470172\n",
      "a: 428683\n",
      "is: 206518\n",
      "for: 196077\n",
      "as: 178468\n",
      "that: 163385\n"
     ]
    }
   ],
   "source": [
    "from datasets import load_dataset\n",
    "import time\n",
    "\n",
    "# Load the Wikipedia dataset, specifying the English version for 2020-03\n",
    "# This dataset is large and widely used for many NLP tasks\n",
    "print(\"Loading the Wikipedia dataset...\")\n",
    "start_time = time.time()\n",
    "dataset = load_dataset('wikipedia', '20220301.en')\n",
    "print(f\"Dataset loaded in {time.time() - start_time:.2f} seconds.\")\n",
    "\n",
    "# The Wikipedia dataset has several features, but we'll focus on the text\n",
    "print(\"\\nInitial sample from the dataset:\")\n",
    "print(dataset['train'][0]['text'][:500])  # Print the first 500 characters of the first article\n",
    "\n",
    "# Let's say we want to filter articles that mention \"artificial intelligence\"\n",
    "print(\"\\nFiltering articles that mention 'artificial intelligence'...\")\n",
    "filtered_articles = dataset['train'].filter(lambda example: \"artificial intelligence\" in example['text'].lower())\n",
    "print(f\"Found {len(filtered_articles)} articles mentioning 'artificial intelligence'.\")\n",
    "\n",
    "# Now, perform a simple analysis: count the average length of these articles\n",
    "total_length = sum(len(article['text']) for article in filtered_articles)\n",
    "average_length = total_length / len(filtered_articles)\n",
    "print(f\"\\nAverage length of articles mentioning 'artificial intelligence': {average_length:.2f} characters.\")\n",
    "\n",
    "# Example of more complex manipulation - compute the frequency of words in the filtered articles\n",
    "from collections import Counter\n",
    "\n",
    "word_counts = Counter()\n",
    "for article in filtered_articles:\n",
    "    words = article['text'].lower().split()\n",
    "    word_counts.update(words)\n",
    "\n",
    "print(\"\\nMost common words in articles about 'artificial intelligence':\")\n",
    "for word, freq in word_counts.most_common(10):\n",
    "    print(f\"{word}: {freq}\")\n",
    "\n",
    "# Cleaning up resources (if necessary, e.g., saving filtered data)\n",
    "# filtered_articles.save_to_disk('/path/to/save')  # Uncomment to save the filtered dataset\n"
   ]
  }
 ],
 "metadata": {
  "kernelspec": {
   "display_name": "Python 3",
   "language": "python",
   "name": "python3"
  },
  "language_info": {
   "codemirror_mode": {
    "name": "ipython",
    "version": 3
   },
   "file_extension": ".py",
   "mimetype": "text/x-python",
   "name": "python",
   "nbconvert_exporter": "python",
   "pygments_lexer": "ipython3",
   "version": "3.10.12"
  }
 },
 "nbformat": 4,
 "nbformat_minor": 2
}
